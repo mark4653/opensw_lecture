{
  "nbformat": 4,
  "nbformat_minor": 0,
  "metadata": {
    "colab": {
      "provenance": []
    },
    "kernelspec": {
      "name": "python3",
      "display_name": "Python 3"
    },
    "language_info": {
      "name": "python"
    }
  },
  "cells": [
    {
      "cell_type": "markdown",
      "source": [
        "1"
      ],
      "metadata": {
        "id": "2khvp7iaGJ_o"
      }
    },
    {
      "cell_type": "code",
      "execution_count": 1,
      "metadata": {
        "colab": {
          "base_uri": "https://localhost:8080/"
        },
        "id": "NkLRWXSytGnU",
        "outputId": "3420ae18-1936-4532-d03c-139ecbd41ca0"
      },
      "outputs": [
        {
          "output_type": "stream",
          "name": "stdout",
          "text": [
            "[36, 42, 38, 33, 64]\n"
          ]
        }
      ],
      "source": [
        "symbols = \"$*&!@\"\n",
        "codes = []\n",
        "\n",
        "for symbol in symbols:\n",
        "    codes.append(ord(symbol))\n",
        "\n",
        "print(codes)"
      ]
    },
    {
      "cell_type": "markdown",
      "source": [
        "2"
      ],
      "metadata": {
        "id": "azxv9PPPGWO2"
      }
    },
    {
      "cell_type": "code",
      "source": [
        "symbols = \"$*&!@\"\n",
        "\n",
        "codes = [ord(symbol) for symbol in symbols]\n",
        "\n",
        "print(codes)"
      ],
      "metadata": {
        "colab": {
          "base_uri": "https://localhost:8080/"
        },
        "id": "GClTtwPuGVFn",
        "outputId": "ffe6144e-f7cb-4202-c3ea-76d49c96061d"
      },
      "execution_count": 2,
      "outputs": [
        {
          "output_type": "stream",
          "name": "stdout",
          "text": [
            "[36, 42, 38, 33, 64]\n"
          ]
        }
      ]
    },
    {
      "cell_type": "markdown",
      "source": [
        "3"
      ],
      "metadata": {
        "id": "czCxSGYUGeU-"
      }
    },
    {
      "cell_type": "code",
      "source": [
        "x = '\"!~$$*&!@'\n",
        "dummy = [ord(x) for x in x]\n",
        "\n",
        "print(x)\n",
        "print(dummy)"
      ],
      "metadata": {
        "colab": {
          "base_uri": "https://localhost:8080/"
        },
        "id": "BNWw74emGe3-",
        "outputId": "0b66ab7f-bb28-4336-bffc-588ca44434b6"
      },
      "execution_count": 3,
      "outputs": [
        {
          "output_type": "stream",
          "name": "stdout",
          "text": [
            "\"!~$$*&!@\n",
            "[34, 33, 126, 36, 36, 42, 38, 33, 64]\n"
          ]
        }
      ]
    },
    {
      "cell_type": "markdown",
      "source": [
        "4"
      ],
      "metadata": {
        "id": "x9gVcvHFGo7_"
      }
    },
    {
      "cell_type": "code",
      "source": [
        "symbols = '\"!~$$*&!@'\n",
        "beyond_ascii = [ord(s) for s in symbols if ord(s) > 32]\n",
        "print(beyond_ascii)"
      ],
      "metadata": {
        "colab": {
          "base_uri": "https://localhost:8080/"
        },
        "id": "V-Y-hCESGpgP",
        "outputId": "5e86ceb1-0aea-4d43-a14e-be6352b5bcec"
      },
      "execution_count": 4,
      "outputs": [
        {
          "output_type": "stream",
          "name": "stdout",
          "text": [
            "[34, 33, 126, 36, 36, 42, 38, 33, 64]\n"
          ]
        }
      ]
    },
    {
      "cell_type": "markdown",
      "source": [
        "5"
      ],
      "metadata": {
        "id": "bFiZ2R8zGwpd"
      }
    },
    {
      "cell_type": "code",
      "source": [
        "symbols = '\"!~$$*&!@'\n",
        "beyond_ascii = list(filter(lambda c: c > 64, map(ord, symbols)))\n",
        "\n",
        "print(beyond_ascii, '\\n')\n",
        "\n",
        "print(f\"Map function:\\n>>> {map(ord, symbols)}\")\n",
        "print(f\"List after map:\\n>>> {list(map(ord, symbols))}\")"
      ],
      "metadata": {
        "colab": {
          "base_uri": "https://localhost:8080/"
        },
        "id": "9X-gtUWNGw92",
        "outputId": "23091a5c-a6df-4146-afbd-eed6bd628694"
      },
      "execution_count": 7,
      "outputs": [
        {
          "output_type": "stream",
          "name": "stdout",
          "text": [
            "[126] \n",
            "\n",
            "Map function:\n",
            ">>> <map object at 0x7a7b23dfc490>\n",
            "List after map:\n",
            ">>> [34, 33, 126, 36, 36, 42, 38, 33, 64]\n"
          ]
        }
      ]
    },
    {
      "cell_type": "markdown",
      "source": [
        "6"
      ],
      "metadata": {
        "id": "7xj-A01lHPj-"
      }
    },
    {
      "cell_type": "code",
      "source": [
        "colors = ['black, white']\n",
        "sizes = ['S', 'M', 'L']\n",
        "tshirts = [(color, size) for color in colors for size in sizes]\n",
        "\n",
        "print(tshirts)\n",
        "\n",
        "for color in colors:\n",
        "    for size in sizes:\n",
        "        print((color, size))"
      ],
      "metadata": {
        "colab": {
          "base_uri": "https://localhost:8080/"
        },
        "id": "ufjxNdNJHQDo",
        "outputId": "813e0ac1-be2f-489b-9f5c-57b6c33b5e0e"
      },
      "execution_count": 8,
      "outputs": [
        {
          "output_type": "stream",
          "name": "stdout",
          "text": [
            "[('black, white', 'S'), ('black, white', 'M'), ('black, white', 'L')]\n",
            "('black, white', 'S')\n",
            "('black, white', 'M')\n",
            "('black, white', 'L')\n"
          ]
        }
      ]
    },
    {
      "cell_type": "markdown",
      "source": [
        "7"
      ],
      "metadata": {
        "id": "sNDIAtrKHm0u"
      }
    },
    {
      "cell_type": "code",
      "source": [
        "symbols = \"!#^&&#\"\n",
        "ord_s = tuple(ord(s) for s in symbols)\n",
        "\n",
        "print(ord_s)\n",
        "\n",
        "import array\n",
        "\n",
        "ord_s = array.array('I', (ord(symbol) for symbol in symbols))\n",
        "\n",
        "print(ord_s)"
      ],
      "metadata": {
        "colab": {
          "base_uri": "https://localhost:8080/"
        },
        "id": "7LZJPh7AHnaX",
        "outputId": "e53e5a8e-c75f-4c3b-b5f5-42f97f80443f"
      },
      "execution_count": 12,
      "outputs": [
        {
          "output_type": "stream",
          "name": "stdout",
          "text": [
            "(33, 35, 94, 38, 38, 35)\n",
            "array('I', [33, 35, 94, 38, 38, 35])\n"
          ]
        }
      ]
    },
    {
      "cell_type": "markdown",
      "source": [
        "8"
      ],
      "metadata": {
        "id": "NHbG5_iJH1rA"
      }
    },
    {
      "cell_type": "code",
      "source": [
        "colors = ['black', 'white']\n",
        "sizes = ['S', 'M', 'L']\n",
        "for tshirt in ('{} {}'.format(c, s) for c in colors for s in sizes):\n",
        "    print(tshirt)"
      ],
      "metadata": {
        "colab": {
          "base_uri": "https://localhost:8080/"
        },
        "id": "BZbofUGNH18-",
        "outputId": "e40db751-e32d-4015-9ff7-67841569301f"
      },
      "execution_count": 13,
      "outputs": [
        {
          "output_type": "stream",
          "name": "stdout",
          "text": [
            "black S\n",
            "black M\n",
            "black L\n",
            "white S\n",
            "white M\n",
            "white L\n"
          ]
        }
      ]
    },
    {
      "cell_type": "markdown",
      "source": [
        "9"
      ],
      "metadata": {
        "id": "J-dW438OH-He"
      }
    },
    {
      "cell_type": "code",
      "source": [
        "lax_coordinates = (33.9425, -118.408056)\n",
        "city, year, pop, chg, area = ('Tokyo', 2003, 32450, 0.66, 8014)\n",
        "traveler_ids = [('USA', '31195855'), ('BRA', 'CE342567'), ('ESP', 'XDA205856')]\n",
        "\n",
        "for passport in sorted(traveler_ids):\n",
        "    print('%s/%s' % passport)\n",
        "    print('{}/{}'.format(passport[0], passport[1]))\n",
        "    print(f'{passport[0]}/{passport[1]}')"
      ],
      "metadata": {
        "colab": {
          "base_uri": "https://localhost:8080/"
        },
        "id": "aa1sGvUIH-d-",
        "outputId": "bb24ddb7-08d4-42af-ccc8-ee0a4a32aaed"
      },
      "execution_count": 14,
      "outputs": [
        {
          "output_type": "stream",
          "name": "stdout",
          "text": [
            "BRA/CE342567\n",
            "BRA/CE342567\n",
            "BRA/CE342567\n",
            "ESP/XDA205856\n",
            "ESP/XDA205856\n",
            "ESP/XDA205856\n",
            "USA/31195855\n",
            "USA/31195855\n",
            "USA/31195855\n"
          ]
        }
      ]
    },
    {
      "cell_type": "markdown",
      "source": [
        "10"
      ],
      "metadata": {
        "id": "DqI5tgF6IhlW"
      }
    },
    {
      "cell_type": "code",
      "source": [
        "for country, _ in traveler_ids:\n",
        "    print(country)"
      ],
      "metadata": {
        "colab": {
          "base_uri": "https://localhost:8080/"
        },
        "id": "ssfmiTeGIiLd",
        "outputId": "acd97089-2073-438f-f937-497e05ab974d"
      },
      "execution_count": 15,
      "outputs": [
        {
          "output_type": "stream",
          "name": "stdout",
          "text": [
            "USA\n",
            "BRA\n",
            "ESP\n"
          ]
        }
      ]
    },
    {
      "cell_type": "markdown",
      "source": [
        "11"
      ],
      "metadata": {
        "id": "5k0xf3Q2InF2"
      }
    },
    {
      "cell_type": "code",
      "source": [
        "lax_corrdinates = (33.9425, -118.408056)\n",
        "latitude, longitude = lax_corrdinates\n",
        "print(latitude)\n",
        "print(longitude)"
      ],
      "metadata": {
        "colab": {
          "base_uri": "https://localhost:8080/"
        },
        "id": "Cg5qh3VJInXe",
        "outputId": "9d7c33f3-0814-4e6d-9ee0-951479136939"
      },
      "execution_count": 16,
      "outputs": [
        {
          "output_type": "stream",
          "name": "stdout",
          "text": [
            "33.9425\n",
            "-118.408056\n"
          ]
        }
      ]
    },
    {
      "cell_type": "markdown",
      "source": [
        "12"
      ],
      "metadata": {
        "id": "YJQm3tdMIqs_"
      }
    },
    {
      "cell_type": "code",
      "source": [
        "a=10; b=20\n",
        "b, a = a, b\n",
        "print(a, b)"
      ],
      "metadata": {
        "colab": {
          "base_uri": "https://localhost:8080/"
        },
        "id": "njA_VkqRIrKW",
        "outputId": "215906b0-0f80-4cd9-c39a-0f6b333cc316"
      },
      "execution_count": 17,
      "outputs": [
        {
          "output_type": "stream",
          "name": "stdout",
          "text": [
            "20 10\n"
          ]
        }
      ]
    },
    {
      "cell_type": "markdown",
      "source": [
        "13"
      ],
      "metadata": {
        "id": "goOYyg6-IwTW"
      }
    },
    {
      "cell_type": "code",
      "source": [
        "print(divmod(20, 8))\n",
        "t = (20, 8)\n",
        "print(divmod(*t))\n",
        "quotient, remainder = divmod(*t)\n",
        "print(quotient, remainder)"
      ],
      "metadata": {
        "colab": {
          "base_uri": "https://localhost:8080/"
        },
        "id": "hQK5cqIjIxMW",
        "outputId": "fdc1599e-e262-4026-c023-dfff4b4fb130"
      },
      "execution_count": 19,
      "outputs": [
        {
          "output_type": "stream",
          "name": "stdout",
          "text": [
            "(2, 4)\n",
            "(2, 4)\n",
            "2 4\n"
          ]
        }
      ]
    },
    {
      "cell_type": "markdown",
      "source": [
        "14"
      ],
      "metadata": {
        "id": "271VhUPHI7Ee"
      }
    },
    {
      "cell_type": "code",
      "source": [
        "import os\n",
        "_, filename = os.path.split('/home/luciano/.ssh/idrsa.pub')\n",
        "print(filename)"
      ],
      "metadata": {
        "colab": {
          "base_uri": "https://localhost:8080/"
        },
        "id": "JXvGhvViI7U2",
        "outputId": "9dfb5f4a-b695-4723-93a3-d61f97f79615"
      },
      "execution_count": 20,
      "outputs": [
        {
          "output_type": "stream",
          "name": "stdout",
          "text": [
            "idrsa.pub\n"
          ]
        }
      ]
    },
    {
      "cell_type": "markdown",
      "source": [
        "15"
      ],
      "metadata": {
        "id": "gev6n1NWI_im"
      }
    },
    {
      "cell_type": "code",
      "source": [
        "a, b, *rest = range(5)\n",
        "print(a, b, rest)\n",
        "a, b, *rest = range(3)\n",
        "print(a, b, rest)\n",
        "a, b, *rest = range(2)\n",
        "print(a, b, rest)"
      ],
      "metadata": {
        "colab": {
          "base_uri": "https://localhost:8080/"
        },
        "id": "nseTLULaJALt",
        "outputId": "60a6b4db-9dca-42a6-f338-6a5eac7da810"
      },
      "execution_count": 21,
      "outputs": [
        {
          "output_type": "stream",
          "name": "stdout",
          "text": [
            "0 1 [2, 3, 4]\n",
            "0 1 [2]\n",
            "0 1 []\n"
          ]
        }
      ]
    },
    {
      "cell_type": "markdown",
      "source": [
        "16"
      ],
      "metadata": {
        "id": "JJzsgcOzJFOQ"
      }
    },
    {
      "cell_type": "code",
      "source": [
        "a, *body, c, d = range(5)\n",
        "print(a, body, c, d)\n",
        "*head, b, c, d = range(5)\n",
        "print(head, b, c, d)"
      ],
      "metadata": {
        "colab": {
          "base_uri": "https://localhost:8080/"
        },
        "id": "H7XvUVqqJFr4",
        "outputId": "192155ac-cd92-41a0-a7cc-81eff57ba91a"
      },
      "execution_count": 22,
      "outputs": [
        {
          "output_type": "stream",
          "name": "stdout",
          "text": [
            "0 [1, 2] 3 4\n",
            "[0, 1] 2 3 4\n"
          ]
        }
      ]
    },
    {
      "cell_type": "markdown",
      "source": [
        "17"
      ],
      "metadata": {
        "id": "6plt2ExpJIYw"
      }
    },
    {
      "cell_type": "code",
      "source": [
        "metro_areas = [\n",
        "    ('Tokyo', 'JP', 36.933, (35, 139)),\n",
        "    ('Delhi NCR', 'IN', 21, (28, 77)),\n",
        "    ('Mexico City', 'MX', 20, (19, -99)),\n",
        "    ('New York-Newark', 'US', 20, (40, -74)),\n",
        "    ('Sao Paulo', 'BR', 19, (-23, -46))\n",
        "]\n",
        "\n",
        "print('{:15} | {:^9} | {:^9}'.format('', 'lat.', 'long.'))\n",
        "fmt = '{:15} | {:9.4f} | {:9.4f}'\n",
        "\n",
        "for name, cc, pop, (latitude, longitude) in metro_areas:\n",
        "    if longitude <= 0:\n",
        "        print(fmt.format(name, latitude, longitude))"
      ],
      "metadata": {
        "colab": {
          "base_uri": "https://localhost:8080/"
        },
        "id": "iQjHulz4JI5A",
        "outputId": "ed04f76e-5655-4a3b-b97f-470abd8bd4c3"
      },
      "execution_count": 23,
      "outputs": [
        {
          "output_type": "stream",
          "name": "stdout",
          "text": [
            "                |   lat.    |   long.  \n",
            "Mexico City     |   19.0000 |  -99.0000\n",
            "New York-Newark |   40.0000 |  -74.0000\n",
            "Sao Paulo       |  -23.0000 |  -46.0000\n"
          ]
        }
      ]
    },
    {
      "cell_type": "markdown",
      "source": [
        "18"
      ],
      "metadata": {
        "id": "HRKm37m6JeHv"
      }
    },
    {
      "cell_type": "code",
      "source": [
        "from collections import namedtuple\n",
        "City = namedtuple('City', 'name country population coordinates')\n",
        "tokyo = City('Tokyo', 'JP', 36.933, (35.689, 139.691))\n",
        "print(tokyo)\n",
        "print(tokyo.population)\n",
        "print(tokyo.coordinates)\n",
        "print(tokyo[1])"
      ],
      "metadata": {
        "colab": {
          "base_uri": "https://localhost:8080/"
        },
        "id": "wsbvNk9SJevl",
        "outputId": "e181d222-b193-4bb6-da40-b9fb8bc20c6d"
      },
      "execution_count": 25,
      "outputs": [
        {
          "output_type": "stream",
          "name": "stdout",
          "text": [
            "City(name='Tokyo', country='JP', population=36.933, coordinates=(35.689, 139.691))\n",
            "36.933\n",
            "(35.689, 139.691)\n",
            "JP\n"
          ]
        }
      ]
    },
    {
      "cell_type": "markdown",
      "source": [
        "19"
      ],
      "metadata": {
        "id": "_Qy_jYq8Jo8f"
      }
    },
    {
      "cell_type": "code",
      "source": [
        "print(City._fields)\n",
        "\n",
        "LatLong = namedtuple('LatLong', 'lat long')\n",
        "delhi_data = ('Delhi NCR', 'IN', 21.935, LatLong(28.613, 77.208))\n",
        "delhi = City._make(delhi_data)\n",
        "print(delhi._asdict())\n",
        "for key, value in delhi._asdict().items():\n",
        "    print(key + ':', value)"
      ],
      "metadata": {
        "colab": {
          "base_uri": "https://localhost:8080/"
        },
        "id": "QnMSmhROJpVv",
        "outputId": "6804bc80-97f2-4bf0-dc2d-bdce8ae1b784"
      },
      "execution_count": 27,
      "outputs": [
        {
          "output_type": "stream",
          "name": "stdout",
          "text": [
            "('name', 'country', 'population', 'coordinates')\n",
            "{'name': 'Delhi NCR', 'country': 'IN', 'population': 21.935, 'coordinates': LatLong(lat=28.613, long=77.208)}\n",
            "name: Delhi NCR\n",
            "country: IN\n",
            "population: 21.935\n",
            "coordinates: LatLong(lat=28.613, long=77.208)\n"
          ]
        }
      ]
    },
    {
      "cell_type": "markdown",
      "source": [
        "20"
      ],
      "metadata": {
        "id": "H0BKKbUyJ4w3"
      }
    },
    {
      "cell_type": "code",
      "source": [
        "l = [10, 20, 30, 40, 50, 60]\n",
        "print(l[:2])\n",
        "print(l[2:])\n",
        "print(l[:3])\n",
        "print(l[3:])"
      ],
      "metadata": {
        "colab": {
          "base_uri": "https://localhost:8080/"
        },
        "id": "C0dcOgtOJ5Kn",
        "outputId": "33e80046-26b7-43d6-e657-e535e0d895e3"
      },
      "execution_count": 29,
      "outputs": [
        {
          "output_type": "stream",
          "name": "stdout",
          "text": [
            "[10, 20]\n",
            "[30, 40, 50, 60]\n",
            "[10, 20, 30]\n",
            "[40, 50, 60]\n"
          ]
        }
      ]
    },
    {
      "cell_type": "markdown",
      "source": [
        "21"
      ],
      "metadata": {
        "id": "oDlWhoYEKAe_"
      }
    },
    {
      "cell_type": "code",
      "source": [
        "invoice = \"\"\"\n",
        "0.....6....................25........33.......40........\n",
        "1909  Pimoroni              $17.50      3         $52.50\n",
        "1489  6mm Tactile Switch    $4.95       2         $9.90\n",
        "\"\"\"\n",
        "\n",
        "SKU = slice(0, 6)\n",
        "DESCRIPTION = slice(6, 25)\n",
        "UNIT_PRICE = slice(25, 33)\n",
        "QUANTITY = slice(33, 40)\n",
        "ITEM_TOTAL = slice(55, None)\n",
        "\n",
        "line_items = invoice.split('\\n')[2:]\n",
        "for item in line_items:\n",
        "    print(item[UNIT_PRICE], item[DESCRIPTION])"
      ],
      "metadata": {
        "colab": {
          "base_uri": "https://localhost:8080/"
        },
        "id": "se234xmvKA92",
        "outputId": "814cdbbb-3ffd-4273-8b30-9ce980dc7168"
      },
      "execution_count": 32,
      "outputs": [
        {
          "output_type": "stream",
          "name": "stdout",
          "text": [
            "   $17.5 Pimoroni           \n",
            "   $4.95 6mm Tactile Switch \n",
            " \n"
          ]
        }
      ]
    },
    {
      "cell_type": "markdown",
      "source": [
        "22"
      ],
      "metadata": {
        "id": "3lpNLrDwKwwW"
      }
    },
    {
      "cell_type": "code",
      "source": [
        "l = list(range(10))\n",
        "print(l)\n",
        "l[2:5] = [20, 30]\n",
        "print(l)\n",
        "del l[5:7]\n",
        "print(l)\n",
        "l[3::2] = [11, 22]\n",
        "print(l)"
      ],
      "metadata": {
        "colab": {
          "base_uri": "https://localhost:8080/"
        },
        "id": "qK8KW_aaKxQm",
        "outputId": "bdb1ef3c-e420-4460-da9b-51161ece8499"
      },
      "execution_count": 34,
      "outputs": [
        {
          "output_type": "stream",
          "name": "stdout",
          "text": [
            "[0, 1, 2, 3, 4, 5, 6, 7, 8, 9]\n",
            "[0, 1, 20, 30, 5, 6, 7, 8, 9]\n",
            "[0, 1, 20, 30, 5, 8, 9]\n",
            "[0, 1, 20, 11, 5, 22, 9]\n"
          ]
        }
      ]
    },
    {
      "cell_type": "markdown",
      "source": [
        "23"
      ],
      "metadata": {
        "id": "6QTon0rfK4ru"
      }
    },
    {
      "cell_type": "code",
      "source": [
        "l[2:5] = 100"
      ],
      "metadata": {
        "colab": {
          "base_uri": "https://localhost:8080/",
          "height": 141
        },
        "id": "FAjWZcwxK5FG",
        "outputId": "de53d071-c588-45bd-e7fd-6f25326b6fbe"
      },
      "execution_count": 35,
      "outputs": [
        {
          "output_type": "error",
          "ename": "TypeError",
          "evalue": "can only assign an iterable",
          "traceback": [
            "\u001b[0;31m---------------------------------------------------------------------------\u001b[0m",
            "\u001b[0;31mTypeError\u001b[0m                                 Traceback (most recent call last)",
            "\u001b[0;32m<ipython-input-35-da8b10461280>\u001b[0m in \u001b[0;36m<cell line: 1>\u001b[0;34m()\u001b[0m\n\u001b[0;32m----> 1\u001b[0;31m \u001b[0ml\u001b[0m\u001b[0;34m[\u001b[0m\u001b[0;36m2\u001b[0m\u001b[0;34m:\u001b[0m\u001b[0;36m5\u001b[0m\u001b[0;34m]\u001b[0m \u001b[0;34m=\u001b[0m \u001b[0;36m100\u001b[0m\u001b[0;34m\u001b[0m\u001b[0;34m\u001b[0m\u001b[0m\n\u001b[0m",
            "\u001b[0;31mTypeError\u001b[0m: can only assign an iterable"
          ]
        }
      ]
    },
    {
      "cell_type": "markdown",
      "source": [
        "24"
      ],
      "metadata": {
        "id": "vcgWWNQtK8Ox"
      }
    },
    {
      "cell_type": "code",
      "source": [
        "l[2:5] = [100]\n",
        "print(l)"
      ],
      "metadata": {
        "colab": {
          "base_uri": "https://localhost:8080/"
        },
        "id": "MVFG8UoBK8v3",
        "outputId": "c35b5b10-8775-462a-ef56-a5b980272b9e"
      },
      "execution_count": 36,
      "outputs": [
        {
          "output_type": "stream",
          "name": "stdout",
          "text": [
            "[0, 1, 100, 22, 9]\n"
          ]
        }
      ]
    },
    {
      "cell_type": "markdown",
      "source": [
        "25"
      ],
      "metadata": {
        "id": "vsl2zu8tLBXG"
      }
    },
    {
      "cell_type": "code",
      "source": [
        "l = [1, 2, 3]\n",
        "print(l * 5)\n",
        "print(5 * 'abcd')"
      ],
      "metadata": {
        "colab": {
          "base_uri": "https://localhost:8080/"
        },
        "id": "jRlmaGGULCGm",
        "outputId": "c2181efc-b49e-4782-c5c2-d217ecf58cf3"
      },
      "execution_count": 38,
      "outputs": [
        {
          "output_type": "stream",
          "name": "stdout",
          "text": [
            "[1, 2, 3, 1, 2, 3, 1, 2, 3, 1, 2, 3, 1, 2, 3]\n",
            "abcdabcdabcdabcdabcd\n"
          ]
        }
      ]
    },
    {
      "cell_type": "markdown",
      "source": [
        "26"
      ],
      "metadata": {
        "id": "ozy6G7glLITX"
      }
    },
    {
      "cell_type": "code",
      "source": [
        "board = [['_'] * 3 for i in range(3)]\n",
        "print(board)\n",
        "board[1][2] = 'X'\n",
        "print(board)"
      ],
      "metadata": {
        "colab": {
          "base_uri": "https://localhost:8080/"
        },
        "id": "c0c9w91pLIwe",
        "outputId": "5b1f8419-e13c-436d-e3f0-4ba7814c91b2"
      },
      "execution_count": 39,
      "outputs": [
        {
          "output_type": "stream",
          "name": "stdout",
          "text": [
            "[['_', '_', '_'], ['_', '_', '_'], ['_', '_', '_']]\n",
            "[['_', '_', '_'], ['_', '_', 'X'], ['_', '_', '_']]\n"
          ]
        }
      ]
    },
    {
      "cell_type": "markdown",
      "source": [
        "27"
      ],
      "metadata": {
        "id": "zH8N9PJbLLHm"
      }
    },
    {
      "cell_type": "code",
      "source": [
        "weird_board = [['_'] * 3] * 3\n",
        "print(weird_board)\n",
        "weird_board[1][2] = 'O'\n",
        "print(weird_board)"
      ],
      "metadata": {
        "colab": {
          "base_uri": "https://localhost:8080/"
        },
        "id": "H1R5Rgu2LMWm",
        "outputId": "75449e1b-309b-4e3b-e2db-de5f740fd61f"
      },
      "execution_count": 40,
      "outputs": [
        {
          "output_type": "stream",
          "name": "stdout",
          "text": [
            "[['_', '_', '_'], ['_', '_', '_'], ['_', '_', '_']]\n",
            "[['_', '_', 'O'], ['_', '_', 'O'], ['_', '_', 'O']]\n"
          ]
        }
      ]
    },
    {
      "cell_type": "markdown",
      "source": [
        "28"
      ],
      "metadata": {
        "id": "U-bd-7LILOY-"
      }
    },
    {
      "cell_type": "code",
      "source": [
        "row = ['_'] * 3\n",
        "board = []\n",
        "for i in range(3):\n",
        "    board.append(row)\n",
        "\n",
        "board[1][2] = 'X'\n",
        "print(board)"
      ],
      "metadata": {
        "colab": {
          "base_uri": "https://localhost:8080/"
        },
        "id": "lTg2g8neLO7W",
        "outputId": "6700b12e-a2b3-4b15-b12b-138579ac3000"
      },
      "execution_count": 42,
      "outputs": [
        {
          "output_type": "stream",
          "name": "stdout",
          "text": [
            "[['_', '_', 'X'], ['_', '_', 'X'], ['_', '_', 'X']]\n"
          ]
        }
      ]
    },
    {
      "cell_type": "markdown",
      "source": [
        "29"
      ],
      "metadata": {
        "id": "mR16ZsraLUrG"
      }
    },
    {
      "cell_type": "code",
      "source": [
        "board = []\n",
        "for i in range(3):\n",
        "    row = ['_'] * 3\n",
        "    board.append(row)\n",
        "\n",
        "print(board)\n",
        "\n",
        "board[2][0] = 'X'\n",
        "print(board)"
      ],
      "metadata": {
        "colab": {
          "base_uri": "https://localhost:8080/"
        },
        "id": "5k7dnmLHLVRe",
        "outputId": "83c3bee2-13ee-4192-a90e-779109fd620a"
      },
      "execution_count": 45,
      "outputs": [
        {
          "output_type": "stream",
          "name": "stdout",
          "text": [
            "[['_', '_', '_'], ['_', '_', '_'], ['_', '_', '_']]\n",
            "[['_', '_', '_'], ['_', '_', '_'], ['X', '_', '_']]\n"
          ]
        }
      ]
    },
    {
      "cell_type": "markdown",
      "source": [
        "30"
      ],
      "metadata": {
        "id": "hxH-4iJJLbt2"
      }
    },
    {
      "cell_type": "code",
      "source": [
        "l = [1, 2, 3]\n",
        "print(id(l))\n",
        "l *= 2\n",
        "print(l)\n",
        "print(id(l))"
      ],
      "metadata": {
        "colab": {
          "base_uri": "https://localhost:8080/"
        },
        "id": "1I887KzOLcGO",
        "outputId": "b662ee5e-ae18-47a7-ae0b-33a1dbda68fd"
      },
      "execution_count": 46,
      "outputs": [
        {
          "output_type": "stream",
          "name": "stdout",
          "text": [
            "134668512390080\n",
            "[1, 2, 3, 1, 2, 3]\n",
            "134668512390080\n"
          ]
        }
      ]
    },
    {
      "cell_type": "markdown",
      "source": [
        "31"
      ],
      "metadata": {
        "id": "42oi1HI5LiiO"
      }
    },
    {
      "cell_type": "code",
      "source": [
        "t = (1, 2, 3)\n",
        "print(id(t))\n",
        "t *= 2\n",
        "print(id(t))"
      ],
      "metadata": {
        "colab": {
          "base_uri": "https://localhost:8080/"
        },
        "id": "j9oEJDSfLjyW",
        "outputId": "c8869987-aa1b-4133-ec61-db26474e5360"
      },
      "execution_count": 48,
      "outputs": [
        {
          "output_type": "stream",
          "name": "stdout",
          "text": [
            "134668513665920\n",
            "134668513632096\n"
          ]
        }
      ]
    },
    {
      "cell_type": "markdown",
      "source": [
        "32"
      ],
      "metadata": {
        "id": "Bvtr7OJFLpOu"
      }
    },
    {
      "cell_type": "code",
      "source": [
        "t = (1, 2, [30, 40])\n",
        "print(t)\n",
        "t[2] += [50, 60]\n",
        "#답: t는 (1, 2, [30, 40, 50, 60])이 되며 TypeError도 같이 발생"
      ],
      "metadata": {
        "colab": {
          "base_uri": "https://localhost:8080/",
          "height": 211
        },
        "id": "oMVWM93gLp22",
        "outputId": "f0b3fcb7-97f6-4f13-fe4a-495f40d8a17a"
      },
      "execution_count": 52,
      "outputs": [
        {
          "output_type": "stream",
          "name": "stdout",
          "text": [
            "(1, 2, [30, 40])\n"
          ]
        },
        {
          "output_type": "error",
          "ename": "TypeError",
          "evalue": "'tuple' object does not support item assignment",
          "traceback": [
            "\u001b[0;31m---------------------------------------------------------------------------\u001b[0m",
            "\u001b[0;31mTypeError\u001b[0m                                 Traceback (most recent call last)",
            "\u001b[0;32m<ipython-input-52-95753bbc4b59>\u001b[0m in \u001b[0;36m<cell line: 3>\u001b[0;34m()\u001b[0m\n\u001b[1;32m      1\u001b[0m \u001b[0mt\u001b[0m \u001b[0;34m=\u001b[0m \u001b[0;34m(\u001b[0m\u001b[0;36m1\u001b[0m\u001b[0;34m,\u001b[0m \u001b[0;36m2\u001b[0m\u001b[0;34m,\u001b[0m \u001b[0;34m[\u001b[0m\u001b[0;36m30\u001b[0m\u001b[0;34m,\u001b[0m \u001b[0;36m40\u001b[0m\u001b[0;34m]\u001b[0m\u001b[0;34m)\u001b[0m\u001b[0;34m\u001b[0m\u001b[0;34m\u001b[0m\u001b[0m\n\u001b[1;32m      2\u001b[0m \u001b[0mprint\u001b[0m\u001b[0;34m(\u001b[0m\u001b[0mt\u001b[0m\u001b[0;34m)\u001b[0m\u001b[0;34m\u001b[0m\u001b[0;34m\u001b[0m\u001b[0m\n\u001b[0;32m----> 3\u001b[0;31m \u001b[0mt\u001b[0m\u001b[0;34m[\u001b[0m\u001b[0;36m2\u001b[0m\u001b[0;34m]\u001b[0m \u001b[0;34m+=\u001b[0m \u001b[0;34m[\u001b[0m\u001b[0;36m50\u001b[0m\u001b[0;34m,\u001b[0m \u001b[0;36m60\u001b[0m\u001b[0;34m]\u001b[0m\u001b[0;34m\u001b[0m\u001b[0;34m\u001b[0m\u001b[0m\n\u001b[0m\u001b[1;32m      4\u001b[0m \u001b[0;31m#답: t는 (1, 2, [30, 40, 50, 60])이 되며 TypeError도 같이 발생\u001b[0m\u001b[0;34m\u001b[0m\u001b[0;34m\u001b[0m\u001b[0m\n",
            "\u001b[0;31mTypeError\u001b[0m: 'tuple' object does not support item assignment"
          ]
        }
      ]
    },
    {
      "cell_type": "markdown",
      "source": [
        "33"
      ],
      "metadata": {
        "id": "uSyTpKJgMDjN"
      }
    },
    {
      "cell_type": "code",
      "source": [
        "print(t)"
      ],
      "metadata": {
        "colab": {
          "base_uri": "https://localhost:8080/"
        },
        "id": "6stus7AOL-Vv",
        "outputId": "6ad10e81-8439-45a4-8f3f-bab709ed878f"
      },
      "execution_count": 53,
      "outputs": [
        {
          "output_type": "stream",
          "name": "stdout",
          "text": [
            "(1, 2, [30, 40, 50, 60])\n"
          ]
        }
      ]
    },
    {
      "cell_type": "markdown",
      "source": [
        "34"
      ],
      "metadata": {
        "id": "ph_Fxyk1MBLF"
      }
    },
    {
      "cell_type": "code",
      "source": [
        "fruits = ['grape', 'raspberry', 'apple', 'banana']\n",
        "print(sorted(fruits))\n",
        "print(fruits)\n",
        "print(sorted(fruits, reverse=True))\n",
        "print(sorted(fruits, key=len))\n"
      ],
      "metadata": {
        "colab": {
          "base_uri": "https://localhost:8080/"
        },
        "id": "1JY0ehK5MKhf",
        "outputId": "bf215249-69ec-4046-81c5-c03b66109e8e"
      },
      "execution_count": 54,
      "outputs": [
        {
          "output_type": "stream",
          "name": "stdout",
          "text": [
            "['apple', 'banana', 'grape', 'raspberry']\n",
            "['grape', 'raspberry', 'apple', 'banana']\n",
            "['raspberry', 'grape', 'banana', 'apple']\n",
            "['grape', 'apple', 'banana', 'raspberry']\n"
          ]
        }
      ]
    },
    {
      "cell_type": "markdown",
      "source": [
        "35"
      ],
      "metadata": {
        "id": "fRTaeqIAMPE-"
      }
    },
    {
      "cell_type": "code",
      "source": [
        "print(sorted(fruits, key=len, reverse=True))\n",
        "print(fruits)\n",
        "fruits.sort()\n",
        "print(fruits)"
      ],
      "metadata": {
        "colab": {
          "base_uri": "https://localhost:8080/"
        },
        "id": "agUwzQT7MQE2",
        "outputId": "e2d9637a-e496-43a4-b5b7-973fc753ad16"
      },
      "execution_count": 55,
      "outputs": [
        {
          "output_type": "stream",
          "name": "stdout",
          "text": [
            "['raspberry', 'banana', 'grape', 'apple']\n",
            "['grape', 'raspberry', 'apple', 'banana']\n",
            "['apple', 'banana', 'grape', 'raspberry']\n"
          ]
        }
      ]
    },
    {
      "cell_type": "markdown",
      "source": [
        "36"
      ],
      "metadata": {
        "id": "EiL-Bx7DMTNO"
      }
    },
    {
      "cell_type": "code",
      "source": [
        "from array import array\n",
        "from random import random\n",
        "\n",
        "floats = array('d', (random() for i in range(10**7)))\n",
        "print(floats[-1])"
      ],
      "metadata": {
        "colab": {
          "base_uri": "https://localhost:8080/"
        },
        "id": "q_AEzSHoMT7G",
        "outputId": "802b3709-ee15-42fd-d276-ed77fbbc30e4"
      },
      "execution_count": 56,
      "outputs": [
        {
          "output_type": "stream",
          "name": "stdout",
          "text": [
            "0.12131786566040603\n"
          ]
        }
      ]
    },
    {
      "cell_type": "markdown",
      "source": [
        "37"
      ],
      "metadata": {
        "id": "ptD9ppTxMZHe"
      }
    },
    {
      "cell_type": "code",
      "source": [
        "with open('floats.bin', 'wb') as f:\n",
        "    floats.tofile(f)\n",
        "\n",
        "floats2 = array('d')\n",
        "with open('floats.bin', 'rb') as f:\n",
        "    floats2.fromfile(f, 10**7)\n",
        "\n",
        "print(floats2[-1])\n",
        "print(floats2 == floats)"
      ],
      "metadata": {
        "colab": {
          "base_uri": "https://localhost:8080/"
        },
        "id": "Qkpwl-T2MZeQ",
        "outputId": "84625878-5bb6-46a8-93f3-f2c66f6a2c77"
      },
      "execution_count": 57,
      "outputs": [
        {
          "output_type": "stream",
          "name": "stdout",
          "text": [
            "0.12131786566040603\n",
            "True\n"
          ]
        }
      ]
    },
    {
      "cell_type": "markdown",
      "source": [
        "38"
      ],
      "metadata": {
        "id": "4RyK9VL9Mm7-"
      }
    },
    {
      "cell_type": "code",
      "source": [
        "import array\n",
        "\n",
        "numbers = array.array('h', [-2, -1, 0, 1, 2])\n",
        "memv = memoryview(numbers)\n",
        "print(len(memv))\n",
        "print(memv[0])\n",
        "memv_oct = memv.cast('B')\n",
        "print(memv_oct.tolist())\n",
        "memv_oct[5] = 4\n",
        "print(numbers)"
      ],
      "metadata": {
        "colab": {
          "base_uri": "https://localhost:8080/"
        },
        "id": "J8QHrf2rMna_",
        "outputId": "e3398088-23b4-4cee-eaa7-271caaf0d099"
      },
      "execution_count": 58,
      "outputs": [
        {
          "output_type": "stream",
          "name": "stdout",
          "text": [
            "5\n",
            "-2\n",
            "[254, 255, 255, 255, 0, 0, 1, 0, 2, 0]\n",
            "array('h', [-2, -1, 1024, 1, 2])\n"
          ]
        }
      ]
    },
    {
      "cell_type": "markdown",
      "source": [
        "39"
      ],
      "metadata": {
        "id": "jGMhpYhsMsxf"
      }
    },
    {
      "cell_type": "code",
      "source": [
        "import numpy\n",
        "a = numpy.arange(12)\n",
        "print(a)\n",
        "print(type(a))"
      ],
      "metadata": {
        "colab": {
          "base_uri": "https://localhost:8080/"
        },
        "id": "VwH1qRkzMtxu",
        "outputId": "2b938088-ec36-491a-9ad7-5e38a460c20d"
      },
      "execution_count": 59,
      "outputs": [
        {
          "output_type": "stream",
          "name": "stdout",
          "text": [
            "[ 0  1  2  3  4  5  6  7  8  9 10 11]\n",
            "<class 'numpy.ndarray'>\n"
          ]
        }
      ]
    },
    {
      "cell_type": "markdown",
      "source": [
        "40"
      ],
      "metadata": {
        "id": "V4SM8HnKM0Kv"
      }
    },
    {
      "cell_type": "code",
      "source": [
        "print(type(a))\n",
        "print(a.shape)\n",
        "a.shape = 3, 4\n",
        "print(a)"
      ],
      "metadata": {
        "colab": {
          "base_uri": "https://localhost:8080/"
        },
        "id": "0Tw9BQk6M0sG",
        "outputId": "d533aef6-f47a-402b-e34d-2316b9330334"
      },
      "execution_count": 60,
      "outputs": [
        {
          "output_type": "stream",
          "name": "stdout",
          "text": [
            "<class 'numpy.ndarray'>\n",
            "(12,)\n",
            "[[ 0  1  2  3]\n",
            " [ 4  5  6  7]\n",
            " [ 8  9 10 11]]\n"
          ]
        }
      ]
    },
    {
      "cell_type": "markdown",
      "source": [
        "41"
      ],
      "metadata": {
        "id": "fnDjNshLM30o"
      }
    },
    {
      "cell_type": "code",
      "source": [
        "print(a[2])\n",
        "print(a[2, 1])\n",
        "print(a[:, 1])"
      ],
      "metadata": {
        "colab": {
          "base_uri": "https://localhost:8080/"
        },
        "id": "BVNu2suAM4kn",
        "outputId": "8a3d604c-ca3b-4111-d818-c85dcb092089"
      },
      "execution_count": 62,
      "outputs": [
        {
          "output_type": "stream",
          "name": "stdout",
          "text": [
            "[ 8  9 10 11]\n",
            "9\n",
            "[1 5 9]\n"
          ]
        }
      ]
    },
    {
      "cell_type": "markdown",
      "source": [
        "42"
      ],
      "metadata": {
        "id": "JYsTidxoM-B2"
      }
    },
    {
      "cell_type": "code",
      "source": [
        "print(a.transpose())"
      ],
      "metadata": {
        "colab": {
          "base_uri": "https://localhost:8080/"
        },
        "id": "IMLeJHiLM_1u",
        "outputId": "475813bd-2e00-4ca3-823a-43b47ec70d27"
      },
      "execution_count": 63,
      "outputs": [
        {
          "output_type": "stream",
          "name": "stdout",
          "text": [
            "[[ 0  4  8]\n",
            " [ 1  5  9]\n",
            " [ 2  6 10]\n",
            " [ 3  7 11]]\n"
          ]
        }
      ]
    },
    {
      "cell_type": "markdown",
      "source": [
        "43"
      ],
      "metadata": {
        "id": "KLjZvPENNBN3"
      }
    },
    {
      "cell_type": "code",
      "source": [
        "from collections import deque\n",
        "dq = deque(range(10), maxlen=10)\n",
        "print(dq)\n",
        "dq.rotate(3)\n",
        "print(dq)\n",
        "dq.rotate(-4)\n",
        "print(dq)"
      ],
      "metadata": {
        "colab": {
          "base_uri": "https://localhost:8080/"
        },
        "id": "Hs4QyOgiNBwl",
        "outputId": "d881eaea-fbcf-4283-c39b-4ad52eefb355"
      },
      "execution_count": 64,
      "outputs": [
        {
          "output_type": "stream",
          "name": "stdout",
          "text": [
            "deque([0, 1, 2, 3, 4, 5, 6, 7, 8, 9], maxlen=10)\n",
            "deque([7, 8, 9, 0, 1, 2, 3, 4, 5, 6], maxlen=10)\n",
            "deque([1, 2, 3, 4, 5, 6, 7, 8, 9, 0], maxlen=10)\n"
          ]
        }
      ]
    },
    {
      "cell_type": "markdown",
      "source": [
        "44"
      ],
      "metadata": {
        "id": "8O-sZ6GTNKJn"
      }
    },
    {
      "cell_type": "code",
      "source": [
        "dq.appendleft(-1)\n",
        "print(dq)\n",
        "dq.extend([11, 22, 33])\n",
        "print(dq)\n",
        "dq.extendleft([10, 20, 30, 40])\n",
        "print(dq)"
      ],
      "metadata": {
        "colab": {
          "base_uri": "https://localhost:8080/"
        },
        "id": "2ZPoL7fVNLRu",
        "outputId": "57e987cd-0cac-4594-a474-96f84ca44bbd"
      },
      "execution_count": 65,
      "outputs": [
        {
          "output_type": "stream",
          "name": "stdout",
          "text": [
            "deque([-1, 1, 2, 3, 4, 5, 6, 7, 8, 9], maxlen=10)\n",
            "deque([3, 4, 5, 6, 7, 8, 9, 11, 22, 33], maxlen=10)\n",
            "deque([40, 30, 20, 10, 3, 4, 5, 6, 7, 8], maxlen=10)\n"
          ]
        }
      ]
    }
  ]
}